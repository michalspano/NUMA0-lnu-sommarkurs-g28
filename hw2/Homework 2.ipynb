{
 "cells": [
  {
   "cell_type": "markdown",
   "id": "1844afde",
   "metadata": {},
   "source": [
    "# Homework 2\n",
    "\n",
    "- **Authors**: Michal Spano, Dana Ghafour Fatulla\n",
    "- **Group no.**: `28`\n",
    "- **Description**: Source code in the form of a `JupyterNotebook` for **Homework 2** of Summer Course `NUMA0` @ **Lund University, Sweden**."
   ]
  }
 ],
 "metadata": {
  "kernelspec": {
   "display_name": "Python 3 (ipykernel)",
   "language": "python",
   "name": "python3"
  },
  "language_info": {
   "codemirror_mode": {
    "name": "ipython",
    "version": 3
   },
   "file_extension": ".py",
   "mimetype": "text/x-python",
   "name": "python",
   "nbconvert_exporter": "python",
   "pygments_lexer": "ipython3",
   "version": "3.10.14"
  }
 },
 "nbformat": 4,
 "nbformat_minor": 5
}
